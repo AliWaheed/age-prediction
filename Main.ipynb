{
 "cells": [
  {
   "cell_type": "markdown",
   "metadata": {},
   "source": [
    "# Libraries and Spark Context"
   ]
  },
  {
   "cell_type": "code",
   "execution_count": null,
   "metadata": {},
   "outputs": [],
   "source": [
    "import glob\n",
    "import cv2\n",
    "import numpy as np\n",
    "from os import listdir\n",
    "from bigdl.nn.layer import *\n",
    "from bigdl.util.common import *\n",
    "import matplotlib.pyplot as plt\n",
    "from os.path import isfile, join\n",
    "from bigdl.nn.criterion import *\n",
    "from pyspark import SparkContext\n",
    "from bigdl.optim.optimizer import *\n",
    "from bigdl.util.common import Sample\n",
    "from bigdl.nn.keras.layer import Flatten\n",
    "from bigdl.transform.vision.image import *\n",
    "from pyspark.serializers import BatchedSerializer, PickleSerializer\n",
    "\n",
    "\n",
    "#creates a spark context with 4 local nodes and a max 2GB runtime serialization memory\n",
    "sc=SparkContext.getOrCreate(conf=create_spark_conf().setMaster(\"local[4]\").set(\"spark.driver.memory\",\"2g\"))\n",
    "\n",
    "#starts the engine\n",
    "init_engine()"
   ]
  },
  {
   "cell_type": "markdown",
   "metadata": {},
   "source": [
    "# Data Loading"
   ]
  },
  {
   "cell_type": "code",
   "execution_count": 2,
   "metadata": {},
   "outputs": [],
   "source": [
    "#loading preprocessed data in 8 objects (each object containing a class images)\n",
    "images1 = [cv2.imread(file) for file in glob.glob(\"data_1/*.jpg\")]\n",
    "images2 = [cv2.imread(file) for file in glob.glob(\"data_2/*.jpg\")]\n",
    "images3 = [cv2.imread(file) for file in glob.glob(\"data_3/*.jpg\")]\n",
    "images4 = [cv2.imread(file) for file in glob.glob(\"data_4/*.jpg\")]\n",
    "images5 = [cv2.imread(file) for file in glob.glob(\"data_5/*.jpg\")]\n",
    "images6 = [cv2.imread(file) for file in glob.glob(\"data_6/*.jpg\")]\n",
    "images7 = [cv2.imread(file) for file in glob.glob(\"data_7/*.jpg\")]\n",
    "images8 = [cv2.imread(file) for file in glob.glob(\"data_8/*.jpg\")]\n",
    "\n",
    "#splitting and scaling down number of images\n",
    "images1_train = images1[0:8]\n",
    "images1_test = images1[8:10]\n",
    "\n",
    "images2_train = images2[0:8]\n",
    "images2_test = images2[8:10]\n",
    "\n",
    "images3_train = images3[0:8]\n",
    "images3_test = images3[8:10]\n",
    "\n",
    "images4_train = images4[0:8]\n",
    "images4_test = images4[8:10]\n",
    "\n",
    "images4_train = images4[0:8]\n",
    "images4_test = images4[8:10]\n",
    "\n",
    "images5_train = images5[0:8]\n",
    "images5_test = images5[8:10]\n",
    "\n",
    "images6_train = images6[0:8]\n",
    "images6_test = images6[8:10]\n",
    "\n",
    "images7_train = images7[0:8]\n",
    "images7_test = images7[8:10]\n",
    "\n",
    "images8_train = images8[0:8]\n",
    "images8_test = images8[8:10]"
   ]
  },
  {
   "cell_type": "code",
   "execution_count": 3,
   "metadata": {},
   "outputs": [],
   "source": [
    "#creating labels for train data\n",
    "label_train = []\n",
    "\n",
    "for i in range(64):\n",
    "    if i <= 7:\n",
    "        label_train.append(1.0)\n",
    "    elif i <= 15:\n",
    "        label_train.append(2.0)\n",
    "    elif i <= 23:\n",
    "        label_train.append(3.0)\n",
    "    elif i <= 31:\n",
    "        label_train.append(4.0)\n",
    "    elif i <= 39:\n",
    "        label_train.append(5.0)\n",
    "    elif i <= 47:\n",
    "        label_train.append(6.0)\n",
    "    elif i <= 55:\n",
    "        label_train.append(7.0)\n",
    "    elif i <= 63:\n",
    "        label_train.append(8.0)"
   ]
  },
  {
   "cell_type": "code",
   "execution_count": 4,
   "metadata": {},
   "outputs": [],
   "source": [
    "#creating labels for test data\n",
    "label_test = []\n",
    "\n",
    "for i in range(16):\n",
    "    if i <= 1:\n",
    "        label_test.append(1.0)\n",
    "    elif i <= 3:\n",
    "        label_test.append(2.0)\n",
    "    elif i <= 5:\n",
    "        label_test.append(3.0)\n",
    "    elif i <= 7:\n",
    "        label_test.append(4.0)\n",
    "    elif i <= 9:\n",
    "        label_test.append(5.0)\n",
    "    elif i <= 11:\n",
    "        label_test.append(6.0)\n",
    "    elif i <= 13:\n",
    "        label_test.append(7.0)\n",
    "    elif i <= 15:\n",
    "        label_test.append(8.0)"
   ]
  },
  {
   "cell_type": "code",
   "execution_count": 5,
   "metadata": {},
   "outputs": [],
   "source": [
    "#appending all datasets together for train\n",
    "features_train = []\n",
    "\n",
    "for i in range(8):\n",
    "    features_train.append(images1_train[i])\n",
    "    \n",
    "for i in range(8):\n",
    "    features_train.append(images2_train[i])\n",
    "    \n",
    "for i in range(8):\n",
    "    features_train.append(images3_train[i])\n",
    "    \n",
    "for i in range(8):\n",
    "    features_train.append(images4_train[i])\n",
    "    \n",
    "for i in range(8):\n",
    "    features_train.append(images5_train[i])\n",
    "    \n",
    "for i in range(8):\n",
    "    features_train.append(images6_train[i])\n",
    "    \n",
    "for i in range(8):\n",
    "    features_train.append(images7_train[i])\n",
    "    \n",
    "for i in range(8):\n",
    "    features_train.append(images8_train[i])"
   ]
  },
  {
   "cell_type": "code",
   "execution_count": 6,
   "metadata": {},
   "outputs": [],
   "source": [
    "#appending all datasets together for test\n",
    "features_test = []\n",
    "\n",
    "for i in range(2):\n",
    "    features_test.append(images1_test[i])\n",
    "    \n",
    "for i in range(2):\n",
    "    features_test.append(images2_test[i])\n",
    "    \n",
    "for i in range(2):\n",
    "    features_test.append(images3_test[i])\n",
    "    \n",
    "for i in range(2):\n",
    "    features_test.append(images4_test[i])\n",
    "    \n",
    "for i in range(2):\n",
    "    features_test.append(images5_test[i])\n",
    "    \n",
    "for i in range(2):\n",
    "    features_test.append(images6_test[i])\n",
    "    \n",
    "for i in range(2):\n",
    "    features_test.append(images7_test[i])\n",
    "    \n",
    "for i in range(2):\n",
    "    features_test.append(images8_test[i])\n"
   ]
  },
  {
   "cell_type": "markdown",
   "metadata": {},
   "source": [
    "# Transformations"
   ]
  },
  {
   "cell_type": "code",
   "execution_count": 7,
   "metadata": {},
   "outputs": [],
   "source": [
    "#creating numpy arrays for the images\n",
    "train_features = np.array(features_train)\n",
    "test_features = np.array(features_test)"
   ]
  },
  {
   "cell_type": "code",
   "execution_count": 8,
   "metadata": {},
   "outputs": [],
   "source": [
    "#creating numpy arrays for the labels\n",
    "train_labels = np.array(label_train)\n",
    "test_labels = np.array(label_test)"
   ]
  },
  {
   "cell_type": "code",
   "execution_count": 9,
   "metadata": {},
   "outputs": [],
   "source": [
    "#creating train and test RDDs (only images)\n",
    "train_rdd = sc.parallelize(train_features)\n",
    "test_rdd = sc.parallelize(test_features)"
   ]
  },
  {
   "cell_type": "code",
   "execution_count": 10,
   "metadata": {},
   "outputs": [],
   "source": [
    "#mapping for resize the data in images\n",
    "train_rdd = train_rdd.map(lambda x: (cv2.resize(x, (28,  28))))  \n",
    "test_rdd = test_rdd.map(lambda x: (cv2.resize(x, (28, 28))))  "
   ]
  },
  {
   "cell_type": "code",
   "execution_count": 11,
   "metadata": {},
   "outputs": [],
   "source": [
    "#mapping for creating a sample of image and label in the RDD\n",
    "train_rdd = train_rdd.map(lambda x: Sample.from_ndarray(x, train_labels))\n",
    "test_rdd = test_rdd.map(lambda x: Sample.from_ndarray(x, test_labels)) #transform to grayscale"
   ]
  },
  {
   "cell_type": "code",
   "execution_count": 12,
   "metadata": {},
   "outputs": [
    {
     "data": {
      "text/plain": [
       "[Sample: features: [JTensor: storage: [252. 158.  82. ...  51.  41.  34.], shape: [28 28  3], float], labels: [JTensor: storage: [1. 1. 1. 1. 1. 1. 1. 1. 2. 2. 2. 2. 2. 2. 2. 2. 3. 3. 3. 3. 3. 3. 3. 3.\n",
       "  4. 4. 4. 4. 4. 4. 4. 4. 5. 5. 5. 5. 5. 5. 5. 5. 6. 6. 6. 6. 6. 6. 6. 6.\n",
       "  7. 7. 7. 7. 7. 7. 7. 7. 8. 8. 8. 8. 8. 8. 8. 8.], shape: [64], float],\n",
       " Sample: features: [JTensor: storage: [31. 42. 34. ... 48. 53. 51.], shape: [28 28  3], float], labels: [JTensor: storage: [1. 1. 1. 1. 1. 1. 1. 1. 2. 2. 2. 2. 2. 2. 2. 2. 3. 3. 3. 3. 3. 3. 3. 3.\n",
       "  4. 4. 4. 4. 4. 4. 4. 4. 5. 5. 5. 5. 5. 5. 5. 5. 6. 6. 6. 6. 6. 6. 6. 6.\n",
       "  7. 7. 7. 7. 7. 7. 7. 7. 8. 8. 8. 8. 8. 8. 8. 8.], shape: [64], float],\n",
       " Sample: features: [JTensor: storage: [134.  64.  87. ...  53.  45.  56.], shape: [28 28  3], float], labels: [JTensor: storage: [1. 1. 1. 1. 1. 1. 1. 1. 2. 2. 2. 2. 2. 2. 2. 2. 3. 3. 3. 3. 3. 3. 3. 3.\n",
       "  4. 4. 4. 4. 4. 4. 4. 4. 5. 5. 5. 5. 5. 5. 5. 5. 6. 6. 6. 6. 6. 6. 6. 6.\n",
       "  7. 7. 7. 7. 7. 7. 7. 7. 8. 8. 8. 8. 8. 8. 8. 8.], shape: [64], float],\n",
       " Sample: features: [JTensor: storage: [86. 82. 82. ... 55. 40. 31.], shape: [28 28  3], float], labels: [JTensor: storage: [1. 1. 1. 1. 1. 1. 1. 1. 2. 2. 2. 2. 2. 2. 2. 2. 3. 3. 3. 3. 3. 3. 3. 3.\n",
       "  4. 4. 4. 4. 4. 4. 4. 4. 5. 5. 5. 5. 5. 5. 5. 5. 6. 6. 6. 6. 6. 6. 6. 6.\n",
       "  7. 7. 7. 7. 7. 7. 7. 7. 8. 8. 8. 8. 8. 8. 8. 8.], shape: [64], float],\n",
       " Sample: features: [JTensor: storage: [0. 0. 0. ... 0. 0. 0.], shape: [28 28  3], float], labels: [JTensor: storage: [1. 1. 1. 1. 1. 1. 1. 1. 2. 2. 2. 2. 2. 2. 2. 2. 3. 3. 3. 3. 3. 3. 3. 3.\n",
       "  4. 4. 4. 4. 4. 4. 4. 4. 5. 5. 5. 5. 5. 5. 5. 5. 6. 6. 6. 6. 6. 6. 6. 6.\n",
       "  7. 7. 7. 7. 7. 7. 7. 7. 8. 8. 8. 8. 8. 8. 8. 8.], shape: [64], float],\n",
       " Sample: features: [JTensor: storage: [ 10.  11.   9. ...  20.  34. 145.], shape: [28 28  3], float], labels: [JTensor: storage: [1. 1. 1. 1. 1. 1. 1. 1. 2. 2. 2. 2. 2. 2. 2. 2. 3. 3. 3. 3. 3. 3. 3. 3.\n",
       "  4. 4. 4. 4. 4. 4. 4. 4. 5. 5. 5. 5. 5. 5. 5. 5. 6. 6. 6. 6. 6. 6. 6. 6.\n",
       "  7. 7. 7. 7. 7. 7. 7. 7. 8. 8. 8. 8. 8. 8. 8. 8.], shape: [64], float],\n",
       " Sample: features: [JTensor: storage: [175. 195. 226. ... 167. 168. 188.], shape: [28 28  3], float], labels: [JTensor: storage: [1. 1. 1. 1. 1. 1. 1. 1. 2. 2. 2. 2. 2. 2. 2. 2. 3. 3. 3. 3. 3. 3. 3. 3.\n",
       "  4. 4. 4. 4. 4. 4. 4. 4. 5. 5. 5. 5. 5. 5. 5. 5. 6. 6. 6. 6. 6. 6. 6. 6.\n",
       "  7. 7. 7. 7. 7. 7. 7. 7. 8. 8. 8. 8. 8. 8. 8. 8.], shape: [64], float],\n",
       " Sample: features: [JTensor: storage: [0. 0. 0. ... 0. 0. 0.], shape: [28 28  3], float], labels: [JTensor: storage: [1. 1. 1. 1. 1. 1. 1. 1. 2. 2. 2. 2. 2. 2. 2. 2. 3. 3. 3. 3. 3. 3. 3. 3.\n",
       "  4. 4. 4. 4. 4. 4. 4. 4. 5. 5. 5. 5. 5. 5. 5. 5. 6. 6. 6. 6. 6. 6. 6. 6.\n",
       "  7. 7. 7. 7. 7. 7. 7. 7. 8. 8. 8. 8. 8. 8. 8. 8.], shape: [64], float],\n",
       " Sample: features: [JTensor: storage: [208. 190. 179. ... 185. 169. 146.], shape: [28 28  3], float], labels: [JTensor: storage: [1. 1. 1. 1. 1. 1. 1. 1. 2. 2. 2. 2. 2. 2. 2. 2. 3. 3. 3. 3. 3. 3. 3. 3.\n",
       "  4. 4. 4. 4. 4. 4. 4. 4. 5. 5. 5. 5. 5. 5. 5. 5. 6. 6. 6. 6. 6. 6. 6. 6.\n",
       "  7. 7. 7. 7. 7. 7. 7. 7. 8. 8. 8. 8. 8. 8. 8. 8.], shape: [64], float],\n",
       " Sample: features: [JTensor: storage: [ 55.  68.  70. ...  78. 150. 130.], shape: [28 28  3], float], labels: [JTensor: storage: [1. 1. 1. 1. 1. 1. 1. 1. 2. 2. 2. 2. 2. 2. 2. 2. 3. 3. 3. 3. 3. 3. 3. 3.\n",
       "  4. 4. 4. 4. 4. 4. 4. 4. 5. 5. 5. 5. 5. 5. 5. 5. 6. 6. 6. 6. 6. 6. 6. 6.\n",
       "  7. 7. 7. 7. 7. 7. 7. 7. 8. 8. 8. 8. 8. 8. 8. 8.], shape: [64], float],\n",
       " Sample: features: [JTensor: storage: [ 76.  61.  65. ...  33.  71. 119.], shape: [28 28  3], float], labels: [JTensor: storage: [1. 1. 1. 1. 1. 1. 1. 1. 2. 2. 2. 2. 2. 2. 2. 2. 3. 3. 3. 3. 3. 3. 3. 3.\n",
       "  4. 4. 4. 4. 4. 4. 4. 4. 5. 5. 5. 5. 5. 5. 5. 5. 6. 6. 6. 6. 6. 6. 6. 6.\n",
       "  7. 7. 7. 7. 7. 7. 7. 7. 8. 8. 8. 8. 8. 8. 8. 8.], shape: [64], float],\n",
       " Sample: features: [JTensor: storage: [103. 135. 176. ... 240. 251. 255.], shape: [28 28  3], float], labels: [JTensor: storage: [1. 1. 1. 1. 1. 1. 1. 1. 2. 2. 2. 2. 2. 2. 2. 2. 3. 3. 3. 3. 3. 3. 3. 3.\n",
       "  4. 4. 4. 4. 4. 4. 4. 4. 5. 5. 5. 5. 5. 5. 5. 5. 6. 6. 6. 6. 6. 6. 6. 6.\n",
       "  7. 7. 7. 7. 7. 7. 7. 7. 8. 8. 8. 8. 8. 8. 8. 8.], shape: [64], float],\n",
       " Sample: features: [JTensor: storage: [ 46.  73. 100. ...  12.  10.  10.], shape: [28 28  3], float], labels: [JTensor: storage: [1. 1. 1. 1. 1. 1. 1. 1. 2. 2. 2. 2. 2. 2. 2. 2. 3. 3. 3. 3. 3. 3. 3. 3.\n",
       "  4. 4. 4. 4. 4. 4. 4. 4. 5. 5. 5. 5. 5. 5. 5. 5. 6. 6. 6. 6. 6. 6. 6. 6.\n",
       "  7. 7. 7. 7. 7. 7. 7. 7. 8. 8. 8. 8. 8. 8. 8. 8.], shape: [64], float],\n",
       " Sample: features: [JTensor: storage: [ 61. 111. 139. ... 254. 254. 250.], shape: [28 28  3], float], labels: [JTensor: storage: [1. 1. 1. 1. 1. 1. 1. 1. 2. 2. 2. 2. 2. 2. 2. 2. 3. 3. 3. 3. 3. 3. 3. 3.\n",
       "  4. 4. 4. 4. 4. 4. 4. 4. 5. 5. 5. 5. 5. 5. 5. 5. 6. 6. 6. 6. 6. 6. 6. 6.\n",
       "  7. 7. 7. 7. 7. 7. 7. 7. 8. 8. 8. 8. 8. 8. 8. 8.], shape: [64], float],\n",
       " Sample: features: [JTensor: storage: [149. 162. 170. ... 110.  78.  65.], shape: [28 28  3], float], labels: [JTensor: storage: [1. 1. 1. 1. 1. 1. 1. 1. 2. 2. 2. 2. 2. 2. 2. 2. 3. 3. 3. 3. 3. 3. 3. 3.\n",
       "  4. 4. 4. 4. 4. 4. 4. 4. 5. 5. 5. 5. 5. 5. 5. 5. 6. 6. 6. 6. 6. 6. 6. 6.\n",
       "  7. 7. 7. 7. 7. 7. 7. 7. 8. 8. 8. 8. 8. 8. 8. 8.], shape: [64], float],\n",
       " Sample: features: [JTensor: storage: [38. 34. 40. ... 33. 18. 16.], shape: [28 28  3], float], labels: [JTensor: storage: [1. 1. 1. 1. 1. 1. 1. 1. 2. 2. 2. 2. 2. 2. 2. 2. 3. 3. 3. 3. 3. 3. 3. 3.\n",
       "  4. 4. 4. 4. 4. 4. 4. 4. 5. 5. 5. 5. 5. 5. 5. 5. 6. 6. 6. 6. 6. 6. 6. 6.\n",
       "  7. 7. 7. 7. 7. 7. 7. 7. 8. 8. 8. 8. 8. 8. 8. 8.], shape: [64], float],\n",
       " Sample: features: [JTensor: storage: [39. 22. 79. ... 21. 18. 14.], shape: [28 28  3], float], labels: [JTensor: storage: [1. 1. 1. 1. 1. 1. 1. 1. 2. 2. 2. 2. 2. 2. 2. 2. 3. 3. 3. 3. 3. 3. 3. 3.\n",
       "  4. 4. 4. 4. 4. 4. 4. 4. 5. 5. 5. 5. 5. 5. 5. 5. 6. 6. 6. 6. 6. 6. 6. 6.\n",
       "  7. 7. 7. 7. 7. 7. 7. 7. 8. 8. 8. 8. 8. 8. 8. 8.], shape: [64], float],\n",
       " Sample: features: [JTensor: storage: [ 43.  81. 129. ... 111. 119. 208.], shape: [28 28  3], float], labels: [JTensor: storage: [1. 1. 1. 1. 1. 1. 1. 1. 2. 2. 2. 2. 2. 2. 2. 2. 3. 3. 3. 3. 3. 3. 3. 3.\n",
       "  4. 4. 4. 4. 4. 4. 4. 4. 5. 5. 5. 5. 5. 5. 5. 5. 6. 6. 6. 6. 6. 6. 6. 6.\n",
       "  7. 7. 7. 7. 7. 7. 7. 7. 8. 8. 8. 8. 8. 8. 8. 8.], shape: [64], float],\n",
       " Sample: features: [JTensor: storage: [121. 157. 205. ... 255. 252. 208.], shape: [28 28  3], float], labels: [JTensor: storage: [1. 1. 1. 1. 1. 1. 1. 1. 2. 2. 2. 2. 2. 2. 2. 2. 3. 3. 3. 3. 3. 3. 3. 3.\n",
       "  4. 4. 4. 4. 4. 4. 4. 4. 5. 5. 5. 5. 5. 5. 5. 5. 6. 6. 6. 6. 6. 6. 6. 6.\n",
       "  7. 7. 7. 7. 7. 7. 7. 7. 8. 8. 8. 8. 8. 8. 8. 8.], shape: [64], float],\n",
       " Sample: features: [JTensor: storage: [ 8. 11. 15. ...  0.  0.  0.], shape: [28 28  3], float], labels: [JTensor: storage: [1. 1. 1. 1. 1. 1. 1. 1. 2. 2. 2. 2. 2. 2. 2. 2. 3. 3. 3. 3. 3. 3. 3. 3.\n",
       "  4. 4. 4. 4. 4. 4. 4. 4. 5. 5. 5. 5. 5. 5. 5. 5. 6. 6. 6. 6. 6. 6. 6. 6.\n",
       "  7. 7. 7. 7. 7. 7. 7. 7. 8. 8. 8. 8. 8. 8. 8. 8.], shape: [64], float],\n",
       " Sample: features: [JTensor: storage: [  0.   0.   0. ... 165. 176. 194.], shape: [28 28  3], float], labels: [JTensor: storage: [1. 1. 1. 1. 1. 1. 1. 1. 2. 2. 2. 2. 2. 2. 2. 2. 3. 3. 3. 3. 3. 3. 3. 3.\n",
       "  4. 4. 4. 4. 4. 4. 4. 4. 5. 5. 5. 5. 5. 5. 5. 5. 6. 6. 6. 6. 6. 6. 6. 6.\n",
       "  7. 7. 7. 7. 7. 7. 7. 7. 8. 8. 8. 8. 8. 8. 8. 8.], shape: [64], float],\n",
       " Sample: features: [JTensor: storage: [103. 127. 133. ... 102. 124. 135.], shape: [28 28  3], float], labels: [JTensor: storage: [1. 1. 1. 1. 1. 1. 1. 1. 2. 2. 2. 2. 2. 2. 2. 2. 3. 3. 3. 3. 3. 3. 3. 3.\n",
       "  4. 4. 4. 4. 4. 4. 4. 4. 5. 5. 5. 5. 5. 5. 5. 5. 6. 6. 6. 6. 6. 6. 6. 6.\n",
       "  7. 7. 7. 7. 7. 7. 7. 7. 8. 8. 8. 8. 8. 8. 8. 8.], shape: [64], float],\n",
       " Sample: features: [JTensor: storage: [39. 22. 73. ... 23. 58. 72.], shape: [28 28  3], float], labels: [JTensor: storage: [1. 1. 1. 1. 1. 1. 1. 1. 2. 2. 2. 2. 2. 2. 2. 2. 3. 3. 3. 3. 3. 3. 3. 3.\n",
       "  4. 4. 4. 4. 4. 4. 4. 4. 5. 5. 5. 5. 5. 5. 5. 5. 6. 6. 6. 6. 6. 6. 6. 6.\n",
       "  7. 7. 7. 7. 7. 7. 7. 7. 8. 8. 8. 8. 8. 8. 8. 8.], shape: [64], float],\n",
       " Sample: features: [JTensor: storage: [ 49.  60. 110. ... 160. 158. 164.], shape: [28 28  3], float], labels: [JTensor: storage: [1. 1. 1. 1. 1. 1. 1. 1. 2. 2. 2. 2. 2. 2. 2. 2. 3. 3. 3. 3. 3. 3. 3. 3.\n",
       "  4. 4. 4. 4. 4. 4. 4. 4. 5. 5. 5. 5. 5. 5. 5. 5. 6. 6. 6. 6. 6. 6. 6. 6.\n",
       "  7. 7. 7. 7. 7. 7. 7. 7. 8. 8. 8. 8. 8. 8. 8. 8.], shape: [64], float],\n",
       " Sample: features: [JTensor: storage: [ 49.  81. 110. ...  92. 117. 161.], shape: [28 28  3], float], labels: [JTensor: storage: [1. 1. 1. 1. 1. 1. 1. 1. 2. 2. 2. 2. 2. 2. 2. 2. 3. 3. 3. 3. 3. 3. 3. 3.\n",
       "  4. 4. 4. 4. 4. 4. 4. 4. 5. 5. 5. 5. 5. 5. 5. 5. 6. 6. 6. 6. 6. 6. 6. 6.\n",
       "  7. 7. 7. 7. 7. 7. 7. 7. 8. 8. 8. 8. 8. 8. 8. 8.], shape: [64], float],\n",
       " Sample: features: [JTensor: storage: [139. 111. 110. ...  22.  33.  53.], shape: [28 28  3], float], labels: [JTensor: storage: [1. 1. 1. 1. 1. 1. 1. 1. 2. 2. 2. 2. 2. 2. 2. 2. 3. 3. 3. 3. 3. 3. 3. 3.\n",
       "  4. 4. 4. 4. 4. 4. 4. 4. 5. 5. 5. 5. 5. 5. 5. 5. 6. 6. 6. 6. 6. 6. 6. 6.\n",
       "  7. 7. 7. 7. 7. 7. 7. 7. 8. 8. 8. 8. 8. 8. 8. 8.], shape: [64], float],\n",
       " Sample: features: [JTensor: storage: [ 7.  7. 13. ... 19. 11. 11.], shape: [28 28  3], float], labels: [JTensor: storage: [1. 1. 1. 1. 1. 1. 1. 1. 2. 2. 2. 2. 2. 2. 2. 2. 3. 3. 3. 3. 3. 3. 3. 3.\n",
       "  4. 4. 4. 4. 4. 4. 4. 4. 5. 5. 5. 5. 5. 5. 5. 5. 6. 6. 6. 6. 6. 6. 6. 6.\n",
       "  7. 7. 7. 7. 7. 7. 7. 7. 8. 8. 8. 8. 8. 8. 8. 8.], shape: [64], float],\n",
       " Sample: features: [JTensor: storage: [175. 219. 248. ...  16.  23.  38.], shape: [28 28  3], float], labels: [JTensor: storage: [1. 1. 1. 1. 1. 1. 1. 1. 2. 2. 2. 2. 2. 2. 2. 2. 3. 3. 3. 3. 3. 3. 3. 3.\n",
       "  4. 4. 4. 4. 4. 4. 4. 4. 5. 5. 5. 5. 5. 5. 5. 5. 6. 6. 6. 6. 6. 6. 6. 6.\n",
       "  7. 7. 7. 7. 7. 7. 7. 7. 8. 8. 8. 8. 8. 8. 8. 8.], shape: [64], float],\n",
       " Sample: features: [JTensor: storage: [ 59.  83. 137. ... 172. 196. 218.], shape: [28 28  3], float], labels: [JTensor: storage: [1. 1. 1. 1. 1. 1. 1. 1. 2. 2. 2. 2. 2. 2. 2. 2. 3. 3. 3. 3. 3. 3. 3. 3.\n",
       "  4. 4. 4. 4. 4. 4. 4. 4. 5. 5. 5. 5. 5. 5. 5. 5. 6. 6. 6. 6. 6. 6. 6. 6.\n",
       "  7. 7. 7. 7. 7. 7. 7. 7. 8. 8. 8. 8. 8. 8. 8. 8.], shape: [64], float],\n",
       " Sample: features: [JTensor: storage: [ 49.  55.  62. ...  64.  80. 126.], shape: [28 28  3], float], labels: [JTensor: storage: [1. 1. 1. 1. 1. 1. 1. 1. 2. 2. 2. 2. 2. 2. 2. 2. 3. 3. 3. 3. 3. 3. 3. 3.\n",
       "  4. 4. 4. 4. 4. 4. 4. 4. 5. 5. 5. 5. 5. 5. 5. 5. 6. 6. 6. 6. 6. 6. 6. 6.\n",
       "  7. 7. 7. 7. 7. 7. 7. 7. 8. 8. 8. 8. 8. 8. 8. 8.], shape: [64], float],\n",
       " Sample: features: [JTensor: storage: [ 62. 112. 158. ... 185. 213. 228.], shape: [28 28  3], float], labels: [JTensor: storage: [1. 1. 1. 1. 1. 1. 1. 1. 2. 2. 2. 2. 2. 2. 2. 2. 3. 3. 3. 3. 3. 3. 3. 3.\n",
       "  4. 4. 4. 4. 4. 4. 4. 4. 5. 5. 5. 5. 5. 5. 5. 5. 6. 6. 6. 6. 6. 6. 6. 6.\n",
       "  7. 7. 7. 7. 7. 7. 7. 7. 8. 8. 8. 8. 8. 8. 8. 8.], shape: [64], float],\n",
       " Sample: features: [JTensor: storage: [96. 96. 91. ...  0.  0.  0.], shape: [28 28  3], float], labels: [JTensor: storage: [1. 1. 1. 1. 1. 1. 1. 1. 2. 2. 2. 2. 2. 2. 2. 2. 3. 3. 3. 3. 3. 3. 3. 3.\n",
       "  4. 4. 4. 4. 4. 4. 4. 4. 5. 5. 5. 5. 5. 5. 5. 5. 6. 6. 6. 6. 6. 6. 6. 6.\n",
       "  7. 7. 7. 7. 7. 7. 7. 7. 8. 8. 8. 8. 8. 8. 8. 8.], shape: [64], float],\n",
       " Sample: features: [JTensor: storage: [161. 167. 166. ...  77.  85.  92.], shape: [28 28  3], float], labels: [JTensor: storage: [1. 1. 1. 1. 1. 1. 1. 1. 2. 2. 2. 2. 2. 2. 2. 2. 3. 3. 3. 3. 3. 3. 3. 3.\n",
       "  4. 4. 4. 4. 4. 4. 4. 4. 5. 5. 5. 5. 5. 5. 5. 5. 6. 6. 6. 6. 6. 6. 6. 6.\n",
       "  7. 7. 7. 7. 7. 7. 7. 7. 8. 8. 8. 8. 8. 8. 8. 8.], shape: [64], float],\n",
       " Sample: features: [JTensor: storage: [66. 65. 69. ... 26. 24. 24.], shape: [28 28  3], float], labels: [JTensor: storage: [1. 1. 1. 1. 1. 1. 1. 1. 2. 2. 2. 2. 2. 2. 2. 2. 3. 3. 3. 3. 3. 3. 3. 3.\n",
       "  4. 4. 4. 4. 4. 4. 4. 4. 5. 5. 5. 5. 5. 5. 5. 5. 6. 6. 6. 6. 6. 6. 6. 6.\n",
       "  7. 7. 7. 7. 7. 7. 7. 7. 8. 8. 8. 8. 8. 8. 8. 8.], shape: [64], float],\n",
       " Sample: features: [JTensor: storage: [201. 230. 254. ...  60.  29.  28.], shape: [28 28  3], float], labels: [JTensor: storage: [1. 1. 1. 1. 1. 1. 1. 1. 2. 2. 2. 2. 2. 2. 2. 2. 3. 3. 3. 3. 3. 3. 3. 3.\n",
       "  4. 4. 4. 4. 4. 4. 4. 4. 5. 5. 5. 5. 5. 5. 5. 5. 6. 6. 6. 6. 6. 6. 6. 6.\n",
       "  7. 7. 7. 7. 7. 7. 7. 7. 8. 8. 8. 8. 8. 8. 8. 8.], shape: [64], float],\n",
       " Sample: features: [JTensor: storage: [107. 136. 120. ... 208. 211. 215.], shape: [28 28  3], float], labels: [JTensor: storage: [1. 1. 1. 1. 1. 1. 1. 1. 2. 2. 2. 2. 2. 2. 2. 2. 3. 3. 3. 3. 3. 3. 3. 3.\n",
       "  4. 4. 4. 4. 4. 4. 4. 4. 5. 5. 5. 5. 5. 5. 5. 5. 6. 6. 6. 6. 6. 6. 6. 6.\n",
       "  7. 7. 7. 7. 7. 7. 7. 7. 8. 8. 8. 8. 8. 8. 8. 8.], shape: [64], float],\n",
       " Sample: features: [JTensor: storage: [190. 215. 177. ...  69.  69.  98.], shape: [28 28  3], float], labels: [JTensor: storage: [1. 1. 1. 1. 1. 1. 1. 1. 2. 2. 2. 2. 2. 2. 2. 2. 3. 3. 3. 3. 3. 3. 3. 3.\n",
       "  4. 4. 4. 4. 4. 4. 4. 4. 5. 5. 5. 5. 5. 5. 5. 5. 6. 6. 6. 6. 6. 6. 6. 6.\n",
       "  7. 7. 7. 7. 7. 7. 7. 7. 8. 8. 8. 8. 8. 8. 8. 8.], shape: [64], float],\n",
       " Sample: features: [JTensor: storage: [199. 191. 201. ...  20.  19.  21.], shape: [28 28  3], float], labels: [JTensor: storage: [1. 1. 1. 1. 1. 1. 1. 1. 2. 2. 2. 2. 2. 2. 2. 2. 3. 3. 3. 3. 3. 3. 3. 3.\n",
       "  4. 4. 4. 4. 4. 4. 4. 4. 5. 5. 5. 5. 5. 5. 5. 5. 6. 6. 6. 6. 6. 6. 6. 6.\n",
       "  7. 7. 7. 7. 7. 7. 7. 7. 8. 8. 8. 8. 8. 8. 8. 8.], shape: [64], float],\n",
       " Sample: features: [JTensor: storage: [ 59.  78. 113. ...  47.  81. 124.], shape: [28 28  3], float], labels: [JTensor: storage: [1. 1. 1. 1. 1. 1. 1. 1. 2. 2. 2. 2. 2. 2. 2. 2. 3. 3. 3. 3. 3. 3. 3. 3.\n",
       "  4. 4. 4. 4. 4. 4. 4. 4. 5. 5. 5. 5. 5. 5. 5. 5. 6. 6. 6. 6. 6. 6. 6. 6.\n",
       "  7. 7. 7. 7. 7. 7. 7. 7. 8. 8. 8. 8. 8. 8. 8. 8.], shape: [64], float],\n",
       " Sample: features: [JTensor: storage: [ 22.  76. 161. ...  26.  38.  74.], shape: [28 28  3], float], labels: [JTensor: storage: [1. 1. 1. 1. 1. 1. 1. 1. 2. 2. 2. 2. 2. 2. 2. 2. 3. 3. 3. 3. 3. 3. 3. 3.\n",
       "  4. 4. 4. 4. 4. 4. 4. 4. 5. 5. 5. 5. 5. 5. 5. 5. 6. 6. 6. 6. 6. 6. 6. 6.\n",
       "  7. 7. 7. 7. 7. 7. 7. 7. 8. 8. 8. 8. 8. 8. 8. 8.], shape: [64], float],\n",
       " Sample: features: [JTensor: storage: [164. 217. 254. ... 232. 213. 162.], shape: [28 28  3], float], labels: [JTensor: storage: [1. 1. 1. 1. 1. 1. 1. 1. 2. 2. 2. 2. 2. 2. 2. 2. 3. 3. 3. 3. 3. 3. 3. 3.\n",
       "  4. 4. 4. 4. 4. 4. 4. 4. 5. 5. 5. 5. 5. 5. 5. 5. 6. 6. 6. 6. 6. 6. 6. 6.\n",
       "  7. 7. 7. 7. 7. 7. 7. 7. 8. 8. 8. 8. 8. 8. 8. 8.], shape: [64], float],\n",
       " Sample: features: [JTensor: storage: [ 6. 10. 11. ... 19. 48. 62.], shape: [28 28  3], float], labels: [JTensor: storage: [1. 1. 1. 1. 1. 1. 1. 1. 2. 2. 2. 2. 2. 2. 2. 2. 3. 3. 3. 3. 3. 3. 3. 3.\n",
       "  4. 4. 4. 4. 4. 4. 4. 4. 5. 5. 5. 5. 5. 5. 5. 5. 6. 6. 6. 6. 6. 6. 6. 6.\n",
       "  7. 7. 7. 7. 7. 7. 7. 7. 8. 8. 8. 8. 8. 8. 8. 8.], shape: [64], float],\n",
       " Sample: features: [JTensor: storage: [148. 156. 169. ...  43.  55.  67.], shape: [28 28  3], float], labels: [JTensor: storage: [1. 1. 1. 1. 1. 1. 1. 1. 2. 2. 2. 2. 2. 2. 2. 2. 3. 3. 3. 3. 3. 3. 3. 3.\n",
       "  4. 4. 4. 4. 4. 4. 4. 4. 5. 5. 5. 5. 5. 5. 5. 5. 6. 6. 6. 6. 6. 6. 6. 6.\n",
       "  7. 7. 7. 7. 7. 7. 7. 7. 8. 8. 8. 8. 8. 8. 8. 8.], shape: [64], float],\n",
       " Sample: features: [JTensor: storage: [46. 59. 85. ... 13. 10.  6.], shape: [28 28  3], float], labels: [JTensor: storage: [1. 1. 1. 1. 1. 1. 1. 1. 2. 2. 2. 2. 2. 2. 2. 2. 3. 3. 3. 3. 3. 3. 3. 3.\n",
       "  4. 4. 4. 4. 4. 4. 4. 4. 5. 5. 5. 5. 5. 5. 5. 5. 6. 6. 6. 6. 6. 6. 6. 6.\n",
       "  7. 7. 7. 7. 7. 7. 7. 7. 8. 8. 8. 8. 8. 8. 8. 8.], shape: [64], float],\n",
       " Sample: features: [JTensor: storage: [146. 198. 228. ...  58.  52.  53.], shape: [28 28  3], float], labels: [JTensor: storage: [1. 1. 1. 1. 1. 1. 1. 1. 2. 2. 2. 2. 2. 2. 2. 2. 3. 3. 3. 3. 3. 3. 3. 3.\n",
       "  4. 4. 4. 4. 4. 4. 4. 4. 5. 5. 5. 5. 5. 5. 5. 5. 6. 6. 6. 6. 6. 6. 6. 6.\n",
       "  7. 7. 7. 7. 7. 7. 7. 7. 8. 8. 8. 8. 8. 8. 8. 8.], shape: [64], float],\n",
       " Sample: features: [JTensor: storage: [  1.   9.   8. ... 148. 170. 235.], shape: [28 28  3], float], labels: [JTensor: storage: [1. 1. 1. 1. 1. 1. 1. 1. 2. 2. 2. 2. 2. 2. 2. 2. 3. 3. 3. 3. 3. 3. 3. 3.\n",
       "  4. 4. 4. 4. 4. 4. 4. 4. 5. 5. 5. 5. 5. 5. 5. 5. 6. 6. 6. 6. 6. 6. 6. 6.\n",
       "  7. 7. 7. 7. 7. 7. 7. 7. 8. 8. 8. 8. 8. 8. 8. 8.], shape: [64], float],\n",
       " Sample: features: [JTensor: storage: [ 14.  11.  33. ...  50.  85. 159.], shape: [28 28  3], float], labels: [JTensor: storage: [1. 1. 1. 1. 1. 1. 1. 1. 2. 2. 2. 2. 2. 2. 2. 2. 3. 3. 3. 3. 3. 3. 3. 3.\n",
       "  4. 4. 4. 4. 4. 4. 4. 4. 5. 5. 5. 5. 5. 5. 5. 5. 6. 6. 6. 6. 6. 6. 6. 6.\n",
       "  7. 7. 7. 7. 7. 7. 7. 7. 8. 8. 8. 8. 8. 8. 8. 8.], shape: [64], float],\n",
       " Sample: features: [JTensor: storage: [112. 166. 199. ...  10.   3. 160.], shape: [28 28  3], float], labels: [JTensor: storage: [1. 1. 1. 1. 1. 1. 1. 1. 2. 2. 2. 2. 2. 2. 2. 2. 3. 3. 3. 3. 3. 3. 3. 3.\n",
       "  4. 4. 4. 4. 4. 4. 4. 4. 5. 5. 5. 5. 5. 5. 5. 5. 6. 6. 6. 6. 6. 6. 6. 6.\n",
       "  7. 7. 7. 7. 7. 7. 7. 7. 8. 8. 8. 8. 8. 8. 8. 8.], shape: [64], float],\n",
       " Sample: features: [JTensor: storage: [ 92.  67.  51. ... 189. 253. 253.], shape: [28 28  3], float], labels: [JTensor: storage: [1. 1. 1. 1. 1. 1. 1. 1. 2. 2. 2. 2. 2. 2. 2. 2. 3. 3. 3. 3. 3. 3. 3. 3.\n",
       "  4. 4. 4. 4. 4. 4. 4. 4. 5. 5. 5. 5. 5. 5. 5. 5. 6. 6. 6. 6. 6. 6. 6. 6.\n",
       "  7. 7. 7. 7. 7. 7. 7. 7. 8. 8. 8. 8. 8. 8. 8. 8.], shape: [64], float],\n",
       " Sample: features: [JTensor: storage: [ 36.  46.  86. ... 128. 142. 208.], shape: [28 28  3], float], labels: [JTensor: storage: [1. 1. 1. 1. 1. 1. 1. 1. 2. 2. 2. 2. 2. 2. 2. 2. 3. 3. 3. 3. 3. 3. 3. 3.\n",
       "  4. 4. 4. 4. 4. 4. 4. 4. 5. 5. 5. 5. 5. 5. 5. 5. 6. 6. 6. 6. 6. 6. 6. 6.\n",
       "  7. 7. 7. 7. 7. 7. 7. 7. 8. 8. 8. 8. 8. 8. 8. 8.], shape: [64], float],\n",
       " Sample: features: [JTensor: storage: [159. 227. 250. ...  31.  22.  18.], shape: [28 28  3], float], labels: [JTensor: storage: [1. 1. 1. 1. 1. 1. 1. 1. 2. 2. 2. 2. 2. 2. 2. 2. 3. 3. 3. 3. 3. 3. 3. 3.\n",
       "  4. 4. 4. 4. 4. 4. 4. 4. 5. 5. 5. 5. 5. 5. 5. 5. 6. 6. 6. 6. 6. 6. 6. 6.\n",
       "  7. 7. 7. 7. 7. 7. 7. 7. 8. 8. 8. 8. 8. 8. 8. 8.], shape: [64], float],\n",
       " Sample: features: [JTensor: storage: [ 14.  19.  18. ...  16. 151. 217.], shape: [28 28  3], float], labels: [JTensor: storage: [1. 1. 1. 1. 1. 1. 1. 1. 2. 2. 2. 2. 2. 2. 2. 2. 3. 3. 3. 3. 3. 3. 3. 3.\n",
       "  4. 4. 4. 4. 4. 4. 4. 4. 5. 5. 5. 5. 5. 5. 5. 5. 6. 6. 6. 6. 6. 6. 6. 6.\n",
       "  7. 7. 7. 7. 7. 7. 7. 7. 8. 8. 8. 8. 8. 8. 8. 8.], shape: [64], float],\n",
       " Sample: features: [JTensor: storage: [18. 15. 10. ... 13. 10.  6.], shape: [28 28  3], float], labels: [JTensor: storage: [1. 1. 1. 1. 1. 1. 1. 1. 2. 2. 2. 2. 2. 2. 2. 2. 3. 3. 3. 3. 3. 3. 3. 3.\n",
       "  4. 4. 4. 4. 4. 4. 4. 4. 5. 5. 5. 5. 5. 5. 5. 5. 6. 6. 6. 6. 6. 6. 6. 6.\n",
       "  7. 7. 7. 7. 7. 7. 7. 7. 8. 8. 8. 8. 8. 8. 8. 8.], shape: [64], float],\n",
       " Sample: features: [JTensor: storage: [ 0.  0.  0. ... 15. 16. 12.], shape: [28 28  3], float], labels: [JTensor: storage: [1. 1. 1. 1. 1. 1. 1. 1. 2. 2. 2. 2. 2. 2. 2. 2. 3. 3. 3. 3. 3. 3. 3. 3.\n",
       "  4. 4. 4. 4. 4. 4. 4. 4. 5. 5. 5. 5. 5. 5. 5. 5. 6. 6. 6. 6. 6. 6. 6. 6.\n",
       "  7. 7. 7. 7. 7. 7. 7. 7. 8. 8. 8. 8. 8. 8. 8. 8.], shape: [64], float],\n",
       " Sample: features: [JTensor: storage: [ 1.  4. 12. ...  7. 10.  8.], shape: [28 28  3], float], labels: [JTensor: storage: [1. 1. 1. 1. 1. 1. 1. 1. 2. 2. 2. 2. 2. 2. 2. 2. 3. 3. 3. 3. 3. 3. 3. 3.\n",
       "  4. 4. 4. 4. 4. 4. 4. 4. 5. 5. 5. 5. 5. 5. 5. 5. 6. 6. 6. 6. 6. 6. 6. 6.\n",
       "  7. 7. 7. 7. 7. 7. 7. 7. 8. 8. 8. 8. 8. 8. 8. 8.], shape: [64], float],\n",
       " Sample: features: [JTensor: storage: [105.  90.  98. ...   0.   0.   0.], shape: [28 28  3], float], labels: [JTensor: storage: [1. 1. 1. 1. 1. 1. 1. 1. 2. 2. 2. 2. 2. 2. 2. 2. 3. 3. 3. 3. 3. 3. 3. 3.\n",
       "  4. 4. 4. 4. 4. 4. 4. 4. 5. 5. 5. 5. 5. 5. 5. 5. 6. 6. 6. 6. 6. 6. 6. 6.\n",
       "  7. 7. 7. 7. 7. 7. 7. 7. 8. 8. 8. 8. 8. 8. 8. 8.], shape: [64], float],\n",
       " Sample: features: [JTensor: storage: [ 0.  0.  0. ... 15. 14. 16.], shape: [28 28  3], float], labels: [JTensor: storage: [1. 1. 1. 1. 1. 1. 1. 1. 2. 2. 2. 2. 2. 2. 2. 2. 3. 3. 3. 3. 3. 3. 3. 3.\n",
       "  4. 4. 4. 4. 4. 4. 4. 4. 5. 5. 5. 5. 5. 5. 5. 5. 6. 6. 6. 6. 6. 6. 6. 6.\n",
       "  7. 7. 7. 7. 7. 7. 7. 7. 8. 8. 8. 8. 8. 8. 8. 8.], shape: [64], float],\n",
       " Sample: features: [JTensor: storage: [140. 161. 213. ...  69. 115. 161.], shape: [28 28  3], float], labels: [JTensor: storage: [1. 1. 1. 1. 1. 1. 1. 1. 2. 2. 2. 2. 2. 2. 2. 2. 3. 3. 3. 3. 3. 3. 3. 3.\n",
       "  4. 4. 4. 4. 4. 4. 4. 4. 5. 5. 5. 5. 5. 5. 5. 5. 6. 6. 6. 6. 6. 6. 6. 6.\n",
       "  7. 7. 7. 7. 7. 7. 7. 7. 8. 8. 8. 8. 8. 8. 8. 8.], shape: [64], float],\n",
       " Sample: features: [JTensor: storage: [ 64.  87.  79. ...  67. 129. 105.], shape: [28 28  3], float], labels: [JTensor: storage: [1. 1. 1. 1. 1. 1. 1. 1. 2. 2. 2. 2. 2. 2. 2. 2. 3. 3. 3. 3. 3. 3. 3. 3.\n",
       "  4. 4. 4. 4. 4. 4. 4. 4. 5. 5. 5. 5. 5. 5. 5. 5. 6. 6. 6. 6. 6. 6. 6. 6.\n",
       "  7. 7. 7. 7. 7. 7. 7. 7. 8. 8. 8. 8. 8. 8. 8. 8.], shape: [64], float],\n",
       " Sample: features: [JTensor: storage: [181. 204. 206. ... 104.  92. 148.], shape: [28 28  3], float], labels: [JTensor: storage: [1. 1. 1. 1. 1. 1. 1. 1. 2. 2. 2. 2. 2. 2. 2. 2. 3. 3. 3. 3. 3. 3. 3. 3.\n",
       "  4. 4. 4. 4. 4. 4. 4. 4. 5. 5. 5. 5. 5. 5. 5. 5. 6. 6. 6. 6. 6. 6. 6. 6.\n",
       "  7. 7. 7. 7. 7. 7. 7. 7. 8. 8. 8. 8. 8. 8. 8. 8.], shape: [64], float],\n",
       " Sample: features: [JTensor: storage: [216. 178. 160. ...  18.  10.  17.], shape: [28 28  3], float], labels: [JTensor: storage: [1. 1. 1. 1. 1. 1. 1. 1. 2. 2. 2. 2. 2. 2. 2. 2. 3. 3. 3. 3. 3. 3. 3. 3.\n",
       "  4. 4. 4. 4. 4. 4. 4. 4. 5. 5. 5. 5. 5. 5. 5. 5. 6. 6. 6. 6. 6. 6. 6. 6.\n",
       "  7. 7. 7. 7. 7. 7. 7. 7. 8. 8. 8. 8. 8. 8. 8. 8.], shape: [64], float],\n",
       " Sample: features: [JTensor: storage: [ 54.  63.  67. ... 146. 189. 177.], shape: [28 28  3], float], labels: [JTensor: storage: [1. 1. 1. 1. 1. 1. 1. 1. 2. 2. 2. 2. 2. 2. 2. 2. 3. 3. 3. 3. 3. 3. 3. 3.\n",
       "  4. 4. 4. 4. 4. 4. 4. 4. 5. 5. 5. 5. 5. 5. 5. 5. 6. 6. 6. 6. 6. 6. 6. 6.\n",
       "  7. 7. 7. 7. 7. 7. 7. 7. 8. 8. 8. 8. 8. 8. 8. 8.], shape: [64], float],\n",
       " Sample: features: [JTensor: storage: [ 23.  29.  41. ... 254. 254. 254.], shape: [28 28  3], float], labels: [JTensor: storage: [1. 1. 1. 1. 1. 1. 1. 1. 2. 2. 2. 2. 2. 2. 2. 2. 3. 3. 3. 3. 3. 3. 3. 3.\n",
       "  4. 4. 4. 4. 4. 4. 4. 4. 5. 5. 5. 5. 5. 5. 5. 5. 6. 6. 6. 6. 6. 6. 6. 6.\n",
       "  7. 7. 7. 7. 7. 7. 7. 7. 8. 8. 8. 8. 8. 8. 8. 8.], shape: [64], float],\n",
       " Sample: features: [JTensor: storage: [ 2.  6.  7. ... 14. 16. 17.], shape: [28 28  3], float], labels: [JTensor: storage: [1. 1. 1. 1. 1. 1. 1. 1. 2. 2. 2. 2. 2. 2. 2. 2. 3. 3. 3. 3. 3. 3. 3. 3.\n",
       "  4. 4. 4. 4. 4. 4. 4. 4. 5. 5. 5. 5. 5. 5. 5. 5. 6. 6. 6. 6. 6. 6. 6. 6.\n",
       "  7. 7. 7. 7. 7. 7. 7. 7. 8. 8. 8. 8. 8. 8. 8. 8.], shape: [64], float]]"
      ]
     },
     "execution_count": 12,
     "metadata": {},
     "output_type": "execute_result"
    }
   ],
   "source": [
    "#testing the rdd\n",
    "train_rdd.collect()"
   ]
  },
  {
   "cell_type": "code",
   "execution_count": 13,
   "metadata": {},
   "outputs": [
    {
     "data": {
      "text/plain": [
       "[Sample: features: [JTensor: storage: [196. 209. 223. ...  59. 141. 176.], shape: [28 28  3], float], labels: [JTensor: storage: [1. 1. 2. 2. 3. 3. 4. 4. 5. 5. 6. 6. 7. 7. 8. 8.], shape: [16], float],\n",
       " Sample: features: [JTensor: storage: [  0.   0.   0. ... 208. 191. 134.], shape: [28 28  3], float], labels: [JTensor: storage: [1. 1. 2. 2. 3. 3. 4. 4. 5. 5. 6. 6. 7. 7. 8. 8.], shape: [16], float],\n",
       " Sample: features: [JTensor: storage: [0. 0. 0. ... 0. 0. 0.], shape: [28 28  3], float], labels: [JTensor: storage: [1. 1. 2. 2. 3. 3. 4. 4. 5. 5. 6. 6. 7. 7. 8. 8.], shape: [16], float],\n",
       " Sample: features: [JTensor: storage: [ 46.  67.  89. ... 126. 150. 178.], shape: [28 28  3], float], labels: [JTensor: storage: [1. 1. 2. 2. 3. 3. 4. 4. 5. 5. 6. 6. 7. 7. 8. 8.], shape: [16], float],\n",
       " Sample: features: [JTensor: storage: [ 48. 110. 128. ... 120. 129. 246.], shape: [28 28  3], float], labels: [JTensor: storage: [1. 1. 2. 2. 3. 3. 4. 4. 5. 5. 6. 6. 7. 7. 8. 8.], shape: [16], float],\n",
       " Sample: features: [JTensor: storage: [105.  89. 150. ...  36.  60. 100.], shape: [28 28  3], float], labels: [JTensor: storage: [1. 1. 2. 2. 3. 3. 4. 4. 5. 5. 6. 6. 7. 7. 8. 8.], shape: [16], float],\n",
       " Sample: features: [JTensor: storage: [198. 210. 210. ...  32.  33.  47.], shape: [28 28  3], float], labels: [JTensor: storage: [1. 1. 2. 2. 3. 3. 4. 4. 5. 5. 6. 6. 7. 7. 8. 8.], shape: [16], float],\n",
       " Sample: features: [JTensor: storage: [55. 64. 77. ... 23. 18. 17.], shape: [28 28  3], float], labels: [JTensor: storage: [1. 1. 2. 2. 3. 3. 4. 4. 5. 5. 6. 6. 7. 7. 8. 8.], shape: [16], float],\n",
       " Sample: features: [JTensor: storage: [64. 61. 74. ...  0.  0.  0.], shape: [28 28  3], float], labels: [JTensor: storage: [1. 1. 2. 2. 3. 3. 4. 4. 5. 5. 6. 6. 7. 7. 8. 8.], shape: [16], float],\n",
       " Sample: features: [JTensor: storage: [177. 250. 254. ...  26.  40.  59.], shape: [28 28  3], float], labels: [JTensor: storage: [1. 1. 2. 2. 3. 3. 4. 4. 5. 5. 6. 6. 7. 7. 8. 8.], shape: [16], float],\n",
       " Sample: features: [JTensor: storage: [199. 243. 209. ...  58.  69. 113.], shape: [28 28  3], float], labels: [JTensor: storage: [1. 1. 2. 2. 3. 3. 4. 4. 5. 5. 6. 6. 7. 7. 8. 8.], shape: [16], float],\n",
       " Sample: features: [JTensor: storage: [202. 239. 255. ...  10.   9.  11.], shape: [28 28  3], float], labels: [JTensor: storage: [1. 1. 2. 2. 3. 3. 4. 4. 5. 5. 6. 6. 7. 7. 8. 8.], shape: [16], float],\n",
       " Sample: features: [JTensor: storage: [104. 109. 108. ...  53.  61.  78.], shape: [28 28  3], float], labels: [JTensor: storage: [1. 1. 2. 2. 3. 3. 4. 4. 5. 5. 6. 6. 7. 7. 8. 8.], shape: [16], float],\n",
       " Sample: features: [JTensor: storage: [ 72.  82. 149. ...  74.  95. 150.], shape: [28 28  3], float], labels: [JTensor: storage: [1. 1. 2. 2. 3. 3. 4. 4. 5. 5. 6. 6. 7. 7. 8. 8.], shape: [16], float],\n",
       " Sample: features: [JTensor: storage: [255. 225. 174. ...  39.  37.  37.], shape: [28 28  3], float], labels: [JTensor: storage: [1. 1. 2. 2. 3. 3. 4. 4. 5. 5. 6. 6. 7. 7. 8. 8.], shape: [16], float],\n",
       " Sample: features: [JTensor: storage: [250. 255. 254. ...  89.  88.  97.], shape: [28 28  3], float], labels: [JTensor: storage: [1. 1. 2. 2. 3. 3. 4. 4. 5. 5. 6. 6. 7. 7. 8. 8.], shape: [16], float]]"
      ]
     },
     "execution_count": 13,
     "metadata": {},
     "output_type": "execute_result"
    }
   ],
   "source": [
    "test_rdd.collect()"
   ]
  },
  {
   "cell_type": "markdown",
   "metadata": {},
   "source": [
    "# BigDL: Defining Model "
   ]
  },
  {
   "cell_type": "code",
   "execution_count": 14,
   "metadata": {},
   "outputs": [
    {
     "name": "stdout",
     "output_type": "stream",
     "text": [
      "creating: createSequential\n",
      "creating: createReshape\n",
      "creating: createSpatialConvolution\n",
      "creating: createTanh\n",
      "creating: createSpatialMaxPooling\n",
      "creating: createTanh\n",
      "creating: createSpatialConvolution\n",
      "creating: createSpatialMaxPooling\n",
      "creating: createReshape\n",
      "creating: createLinear\n",
      "creating: createTanh\n",
      "creating: createLinear\n",
      "creating: createLogSoftMax\n"
     ]
    },
    {
     "data": {
      "text/plain": [
       "<bigdl.nn.layer.Sequential at 0x119665d30>"
      ]
     },
     "execution_count": 14,
     "metadata": {},
     "output_type": "execute_result"
    }
   ],
   "source": [
    "# model = Sequential()\n",
    "# model.add(Reshape([3, 28, 28]))\n",
    "# model.add(SpatialConvolution(3, 32, 2, 2))\n",
    "# model.add(ReLU())\n",
    "# #model.add(TemporalMaxPooling(4))\n",
    "# model.add(Linear(3 * 32 * 3 * 3, 128))   #can't decide what values to give here\n",
    "# model.add(Linear(864, 8))\n",
    "# model.add(LogSoftMax())\n",
    "\n",
    "model = Sequential()\n",
    "model.add(Reshape([3, 28, 28]))\n",
    "model.add(SpatialConvolution(3, 6, 5, 5))\n",
    "model.add(Tanh())\n",
    "model.add(SpatialMaxPooling(2, 2, 2, 2))\n",
    "model.add(Tanh())\n",
    "model.add(SpatialConvolution(6, 12, 5, 5))\n",
    "model.add(SpatialMaxPooling(2, 2, 2, 2))\n",
    "model.add(Reshape([12 * 4 * 4]))\n",
    "model.add(Linear(12 * 4 * 4, 100))\n",
    "model.add(Tanh())\n",
    "model.add(Linear(100, 8))\n",
    "model.add(LogSoftMax())"
   ]
  },
  {
   "cell_type": "markdown",
   "metadata": {},
   "source": [
    "# BigDL: Defining Training and Testing"
   ]
  },
  {
   "cell_type": "code",
   "execution_count": 15,
   "metadata": {},
   "outputs": [
    {
     "name": "stdout",
     "output_type": "stream",
     "text": [
      "creating: createPoissonCriterion\n",
      "creating: createDefault\n",
      "creating: createSGD\n",
      "creating: createMaxEpoch\n",
      "creating: createDistriOptimizer\n",
      "creating: createEveryEpoch\n",
      "creating: createTop1Accuracy\n"
     ]
    }
   ],
   "source": [
    "optimizer = Optimizer(\n",
    "    model=model,\n",
    "    training_rdd=train_rdd,\n",
    "    criterion=PoissonCriterion(),\n",
    "    optim_method=SGD(learningrate=0.4, learningrate_decay=0.0002),\n",
    "    end_trigger=MaxEpoch(20),\n",
    "    batch_size=64)\n",
    "\n",
    "optimizer.set_validation(\n",
    "    batch_size=16,\n",
    "    val_rdd=test_rdd,\n",
    "    trigger=EveryEpoch(),\n",
    "    val_method=[Top1Accuracy()]\n",
    ")"
   ]
  },
  {
   "cell_type": "markdown",
   "metadata": {},
   "source": [
    "# BigDL: Training"
   ]
  },
  {
   "cell_type": "code",
   "execution_count": null,
   "metadata": {},
   "outputs": [],
   "source": [
    "train_model = optimizer.optimize()"
   ]
  },
  {
   "cell_type": "markdown",
   "metadata": {},
   "source": [
    "# BigDL: Evaluation"
   ]
  },
  {
   "cell_type": "code",
   "execution_count": null,
   "metadata": {},
   "outputs": [],
   "source": [
    "predictions = train_model.predict(test_rdd)"
   ]
  },
  {
   "cell_type": "markdown",
   "metadata": {},
   "source": [
    "# BigDL: Visualization"
   ]
  },
  {
   "cell_type": "code",
   "execution_count": null,
   "metadata": {},
   "outputs": [],
   "source": [
    "loss = np.array(train_summary.read_scalar(\"Loss\"))\n",
    "top1 = np.array(val_summary.read_scalar(\"Top1Accuracy\"))\n",
    "\n",
    "plt.figure(figsize = (12,12))\n",
    "plt.subplot(2,1,1)\n",
    "plt.plot(loss[:,0],loss[:,1],label='loss')\n",
    "plt.xlim(0,loss.shape[0]+10)\n",
    "plt.grid(True)\n",
    "plt.title(\"loss\")\n",
    "plt.subplot(2,1,2)\n",
    "plt.plot(top1[:,0],top1[:,1],label='top1')\n",
    "plt.xlim(0,loss.shape[0]+10)\n",
    "plt.title(\"top1 accuracy\")\n",
    "plt.grid(True)\n"
   ]
  }
 ],
 "metadata": {
  "kernelspec": {
   "display_name": "Python 3",
   "language": "python",
   "name": "python3"
  },
  "language_info": {
   "codemirror_mode": {
    "name": "ipython",
    "version": 3
   },
   "file_extension": ".py",
   "mimetype": "text/x-python",
   "name": "python",
   "nbconvert_exporter": "python",
   "pygments_lexer": "ipython3",
   "version": "3.6.5"
  }
 },
 "nbformat": 4,
 "nbformat_minor": 2
}
