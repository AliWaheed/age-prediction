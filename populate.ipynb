{
 "cells": [
  {
   "cell_type": "markdown",
   "metadata": {},
   "source": [
    "# Data Pre-processing"
   ]
  },
  {
   "cell_type": "code",
   "execution_count": null,
   "metadata": {},
   "outputs": [],
   "source": [
    "import os\n",
    "import shutil\n",
    "\n",
    "#reading a file in a csl\n",
    "file = pd.read_csv(\"text_label.csv\")\n",
    "\n",
    "#dropping unnecessary coloumns\n",
    "file = file.drop(\"xyz\", axis = 1)\n",
    "file = file.drop(\"face_id\", axis = 1)\n",
    "\n",
    "file = file.drop(\"x\", axis = 1)\n",
    "file = file.drop(\"dx\", axis = 1)\n",
    "\n",
    "file = file.drop(\"y\", axis = 1)\n",
    "file = file.drop(\"dy\", axis = 1)\n",
    "\n",
    "file = file.drop(\"tilt_ang\", axis = 1)\n",
    "file = file.drop(\"fiducial_yaw_angle\", axis = 1)\n",
    "\n",
    "\n",
    "file = file.drop(\"gender\", axis = 1)\n",
    "file = file.drop(\"fiducial_score\", axis = 1)\n",
    "\n",
    "age = list(file['age'])\n",
    "directory = list(file['user_id'])\n",
    "image = list(file['original_image'])\n"
   ]
  },
  {
   "cell_type": "code",
   "execution_count": 16,
   "metadata": {},
   "outputs": [
    {
     "name": "stdout",
     "output_type": "stream",
     "text": [
      "done\n"
     ]
    }
   ],
   "source": [
    "import pandas as pd\n",
    "import os\n",
    "import shutil\n",
    "\n",
    "count = 1\n",
    "count_files = 1\n",
    "for i in range(1,8):\n",
    "    for root, dirs, files in os.walk('Dataset_copy/'+ str(count)):\n",
    "        for file in files:\n",
    "            if count_files <= 100:\n",
    "                path_file = os.path.join(root,file)\n",
    "                shutil.copy2(path_file,'data_' + str(count) )\n",
    "                count_files += 1\n",
    "    count += 1\n",
    "        \n",
    "        \n",
    "        \n",
    "    \n",
    "print('done')   "
   ]
  },
  {
   "cell_type": "code",
   "execution_count": null,
   "metadata": {},
   "outputs": [],
   "source": []
  }
 ],
 "metadata": {
  "kernelspec": {
   "display_name": "Python 3",
   "language": "python",
   "name": "python3"
  },
  "language_info": {
   "codemirror_mode": {
    "name": "ipython",
    "version": 3
   },
   "file_extension": ".py",
   "mimetype": "text/x-python",
   "name": "python",
   "nbconvert_exporter": "python",
   "pygments_lexer": "ipython3",
   "version": "3.6.5"
  }
 },
 "nbformat": 4,
 "nbformat_minor": 2
}
